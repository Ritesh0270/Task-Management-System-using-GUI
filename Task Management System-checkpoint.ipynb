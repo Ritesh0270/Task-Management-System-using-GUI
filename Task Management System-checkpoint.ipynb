{
 "cells": [
  {
   "cell_type": "code",
   "execution_count": 1,
   "id": "59608d78",
   "metadata": {},
   "outputs": [],
   "source": [
    "#Task Management Sytem using Tkinter library of python \n",
    "#tkinter is toolkit for buiding GUI( Graphical User Interface)"
   ]
  },
  {
   "cell_type": "code",
   "execution_count": 2,
   "id": "57670dbe",
   "metadata": {},
   "outputs": [],
   "source": [
    "import psutil\n",
    "import tkinter as tk\n",
    "from tkinter import messagebox\n",
    "\n",
    "\n",
    "class TaskManagerGUI:\n",
    "    def __init__(self):\n",
    "        self.root = tk.Tk()\n",
    "        self.root.title(\"Task Manager\")\n",
    "\n",
    "        self.processes_listbox = tk.Listbox(self.root, width=80)\n",
    "        self.processes_listbox.pack()\n",
    "\n",
    "        self.refresh_button = tk.Button(self.root, text=\"Refresh\", command=self.refresh_processes)\n",
    "        self.refresh_button.pack()\n",
    "\n",
    "        self.terminate_button = tk.Button(self.root, text=\"Terminate\", command=self.terminate_selected_process)\n",
    "        self.terminate_button.pack()\n",
    "\n",
    "        self.cpu_utilization_label = tk.Label(self.root, text=\"CPU Utilization: \")\n",
    "        self.cpu_utilization_label.pack()\n",
    "\n",
    "    def refresh_processes(self):\n",
    "        self.processes_listbox.delete(0, tk.END)\n",
    "\n",
    "        for proc in psutil.process_iter(attrs=['pid', 'name']):\n",
    "            self.processes_listbox.insert(tk.END, f\"PID: {proc.info['pid']} | Name: {proc.info['name']}\")\n",
    "\n",
    "    def terminate_selected_process(self):\n",
    "        selection = self.processes_listbox.curselection()\n",
    "        if not selection:\n",
    "            messagebox.showerror(\"Error\", \"No process selected.\")\n",
    "            return\n",
    "\n",
    "        index = selection[0]\n",
    "        process_info = self.processes_listbox.get(index)\n",
    "        pid = int(process_info.split(\"PID: \")[1].split(\" |\")[0])\n",
    "\n",
    "        try:\n",
    "            process = psutil.Process(pid)\n",
    "            process.terminate()\n",
    "            self.processes_listbox.delete(index)\n",
    "        except psutil.NoSuchProcess:\n",
    "            messagebox.showerror(\"Error\", \"Process does not exist.\")\n",
    "\n",
    "    def update_cpu_utilization(self):\n",
    "        cpu_percent = psutil.cpu_percent()\n",
    "        self.cpu_utilization_label.config(text=f\"CPU Utilization: {cpu_percent}%\")\n",
    "\n",
    "        self.root.after(1000, self.update_cpu_utilization)\n",
    "\n",
    "    def run(self):\n",
    "        self.update_cpu_utilization()\n",
    "        self.refresh_processes()\n",
    "        self.root.mainloop()\n",
    "\n",
    "\n",
    "# Create a TaskManagerGUI instance\n",
    "task_manager = TaskManagerGUI()\n",
    "\n",
    "# Run the GUI\n",
    "task_manager.run()"
   ]
  },
  {
   "cell_type": "code",
   "execution_count": null,
   "id": "9f665fab",
   "metadata": {},
   "outputs": [],
   "source": []
  }
 ],
 "metadata": {
  "kernelspec": {
   "display_name": "Python 3 (ipykernel)",
   "language": "python",
   "name": "python3"
  },
  "language_info": {
   "codemirror_mode": {
    "name": "ipython",
    "version": 3
   },
   "file_extension": ".py",
   "mimetype": "text/x-python",
   "name": "python",
   "nbconvert_exporter": "python",
   "pygments_lexer": "ipython3",
   "version": "3.10.9"
  }
 },
 "nbformat": 4,
 "nbformat_minor": 5
}
